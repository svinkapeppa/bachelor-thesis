{
 "cells": [
  {
   "cell_type": "code",
   "execution_count": 1,
   "metadata": {},
   "outputs": [],
   "source": [
    "import time\n",
    "import random\n",
    "import torch\n",
    "import torch.nn as nn\n",
    "\n",
    "import utils\n",
    "\n",
    "from model import Model\n",
    "from evaluate import evaluate_model"
   ]
  },
  {
   "cell_type": "code",
   "execution_count": 2,
   "metadata": {},
   "outputs": [],
   "source": [
    "BATCH_SIZE = 32\n",
    "LSTM_HIDDEN_DIM = 300\n",
    "CHAR_EMBEDDINGS_DIM = 50\n",
    "CHAR_OUT_DIM = 100\n",
    "NUM_EPOCHS = 200"
   ]
  },
  {
   "cell_type": "code",
   "execution_count": 3,
   "metadata": {},
   "outputs": [
    {
     "name": "stdout",
     "output_type": "stream",
     "text": [
      "Number of TRAIN sentences: 14041\n",
      "Number of VALID sentences: 3250\n",
      "Number of TEST sentences: 3453\n"
     ]
    }
   ],
   "source": [
    "train_sentences = utils.read_sentences('data/train')\n",
    "valid_sentences = utils.read_sentences('data/valid')\n",
    "test_sentences = utils.read_sentences('data/test')\n",
    "\n",
    "print('Number of TRAIN sentences: {}'.format(len(train_sentences)))\n",
    "print('Number of VALID sentences: {}'.format(len(valid_sentences)))\n",
    "print('Number of TEST sentences: {}'.format(len(test_sentences)))"
   ]
  },
  {
   "cell_type": "code",
   "execution_count": 4,
   "metadata": {},
   "outputs": [],
   "source": [
    "utils.convert_tags(train_sentences)\n",
    "utils.convert_tags(valid_sentences)\n",
    "utils.convert_tags(test_sentences)"
   ]
  },
  {
   "cell_type": "code",
   "execution_count": 5,
   "metadata": {},
   "outputs": [],
   "source": [
    "tag_idx, idx_tag = utils.create_tag_mapping([train_sentences, valid_sentences, test_sentences])"
   ]
  },
  {
   "cell_type": "code",
   "execution_count": 6,
   "metadata": {},
   "outputs": [],
   "source": [
    "word_idx, idx_word, word_embeddings = utils.create_word_mapping('glove/glove.6B.100d.txt')"
   ]
  },
  {
   "cell_type": "code",
   "execution_count": 7,
   "metadata": {},
   "outputs": [],
   "source": [
    "char_idx, idx_char = utils.create_char_mapping([train_sentences, valid_sentences, test_sentences])"
   ]
  },
  {
   "cell_type": "code",
   "execution_count": 8,
   "metadata": {},
   "outputs": [],
   "source": [
    "case_idx, case_embeddings = utils.create_case_mapping()"
   ]
  },
  {
   "cell_type": "code",
   "execution_count": 9,
   "metadata": {},
   "outputs": [],
   "source": [
    "train_batches = utils.create_batches(train_sentences, BATCH_SIZE, word_idx, char_idx, tag_idx)\n",
    "valid_batches = utils.create_batches(valid_sentences, BATCH_SIZE, word_idx, char_idx, tag_idx)\n",
    "test_batches = utils.create_batches(test_sentences, BATCH_SIZE, word_idx, char_idx, tag_idx)"
   ]
  },
  {
   "cell_type": "code",
   "execution_count": 15,
   "metadata": {},
   "outputs": [],
   "source": [
    "model = Model(len(word_idx), len(case_idx), len(char_idx),\n",
    "              len(word_embeddings[0]), len(case_idx), CHAR_EMBEDDINGS_DIM,\n",
    "              LSTM_HIDDEN_DIM, CHAR_OUT_DIM, len(tag_idx),\n",
    "              word_embeddings, case_embeddings)\n",
    "optimizer = torch.optim.Adam(model.parameters())\n",
    "criterion = nn.CrossEntropyLoss(ignore_index=tag_idx['<PAD>'])"
   ]
  },
  {
   "cell_type": "code",
   "execution_count": 16,
   "metadata": {
    "scrolled": false
   },
   "outputs": [
    {
     "name": "stdout",
     "output_type": "stream",
     "text": [
      "----------------------------------- EPOCH: 1 -----------------------------------\n",
      "----------------------------------- Training -----------------------------------\n",
      "Time: 245.93s\n",
      "Loss: 0.36315\n",
      "---------------------------------- Evaluating ----------------------------------\n",
      "================================== Train Data ==================================\n",
      "F1 = 84.33%, Precision = 84.91%, Recall = 84.62%\n",
      "================================== Valid Data ==================================\n",
      "F1 = 83.92%, Precision = 83.44%, Recall = 83.68%\n",
      "================================== Test  Data ==================================\n",
      "F1 = 81.55%, Precision = 81.09%, Recall = 81.32%\n",
      "Time: 22.67s\n",
      "\n",
      "----------------------------------- EPOCH: 2 -----------------------------------\n",
      "----------------------------------- Training -----------------------------------\n",
      "Time: 244.56s\n",
      "Loss: 0.08247\n",
      "---------------------------------- Evaluating ----------------------------------\n",
      "================================== Train Data ==================================\n",
      "F1 = 89.82%, Precision = 93.50%, Recall = 91.63%\n",
      "================================== Valid Data ==================================\n",
      "F1 = 87.41%, Precision = 90.64%, Recall = 89.00%\n",
      "================================== Test  Data ==================================\n",
      "F1 = 83.58%, Precision = 87.85%, Recall = 85.66%\n",
      "Time: 22.74s\n",
      "\n",
      "----------------------------------- EPOCH: 3 -----------------------------------\n",
      "----------------------------------- Training -----------------------------------\n",
      "Time: 245.55s\n",
      "Loss: 0.04970\n",
      "---------------------------------- Evaluating ----------------------------------\n",
      "================================== Train Data ==================================\n",
      "F1 = 93.66%, Precision = 95.42%, Recall = 94.53%\n",
      "================================== Valid Data ==================================\n",
      "F1 = 89.01%, Precision = 91.10%, Recall = 90.04%\n",
      "================================== Test  Data ==================================\n",
      "F1 = 85.06%, Precision = 88.21%, Recall = 86.61%\n",
      "Time: 22.76s\n",
      "\n",
      "----------------------------------- EPOCH: 4 -----------------------------------\n",
      "----------------------------------- Training -----------------------------------\n",
      "Time: 241.87s\n",
      "Loss: 0.02942\n",
      "---------------------------------- Evaluating ----------------------------------\n",
      "================================== Train Data ==================================\n",
      "F1 = 96.60%, Precision = 95.54%, Recall = 96.07%\n",
      "================================== Valid Data ==================================\n",
      "F1 = 90.79%, Precision = 89.94%, Recall = 90.36%\n",
      "================================== Test  Data ==================================\n",
      "F1 = 87.43%, Precision = 86.10%, Recall = 86.76%\n",
      "Time: 22.82s\n",
      "\n",
      "----------------------------------- EPOCH: 5 -----------------------------------\n",
      "----------------------------------- Training -----------------------------------\n",
      "Time: 243.57s\n",
      "Loss: 0.02086\n",
      "---------------------------------- Evaluating ----------------------------------\n",
      "================================== Train Data ==================================\n",
      "F1 = 97.50%, Precision = 98.08%, Recall = 97.79%\n",
      "================================== Valid Data ==================================\n",
      "F1 = 90.17%, Precision = 91.59%, Recall = 90.87%\n",
      "================================== Test  Data ==================================\n",
      "F1 = 85.78%, Precision = 87.87%, Recall = 86.81%\n",
      "Time: 22.91s\n",
      "\n",
      "----------------------------------- EPOCH: 6 -----------------------------------\n",
      "----------------------------------- Training -----------------------------------\n",
      "Time: 244.96s\n",
      "Loss: 0.01271\n",
      "---------------------------------- Evaluating ----------------------------------\n",
      "================================== Train Data ==================================\n",
      "F1 = 98.15%, Precision = 98.80%, Recall = 98.48%\n",
      "================================== Valid Data ==================================\n",
      "F1 = 90.13%, Precision = 91.92%, Recall = 91.02%\n",
      "================================== Test  Data ==================================\n",
      "F1 = 84.61%, Precision = 87.68%, Recall = 86.11%\n",
      "Time: 23.21s\n",
      "\n",
      "----------------------------------- EPOCH: 7 -----------------------------------\n",
      "----------------------------------- Training -----------------------------------\n"
     ]
    },
    {
     "ename": "KeyboardInterrupt",
     "evalue": "",
     "traceback": [
      "\u001b[0;31m---------------------------------------------------------------------------\u001b[0m",
      "\u001b[0;31mKeyboardInterrupt\u001b[0m                         Traceback (most recent call last)",
      "\u001b[0;32m<ipython-input-16-fb2847640ab8>\u001b[0m in \u001b[0;36m<module>\u001b[0;34m()\u001b[0m\n\u001b[1;32m     16\u001b[0m \u001b[0;34m\u001b[0m\u001b[0m\n\u001b[1;32m     17\u001b[0m         \u001b[0mloss\u001b[0m \u001b[0;34m=\u001b[0m \u001b[0mcriterion\u001b[0m\u001b[0;34m(\u001b[0m\u001b[0mlogits\u001b[0m\u001b[0;34m.\u001b[0m\u001b[0mview\u001b[0m\u001b[0;34m(\u001b[0m\u001b[0;34m-\u001b[0m\u001b[0;36m1\u001b[0m\u001b[0;34m,\u001b[0m \u001b[0mlogits\u001b[0m\u001b[0;34m.\u001b[0m\u001b[0mshape\u001b[0m\u001b[0;34m[\u001b[0m\u001b[0;34m-\u001b[0m\u001b[0;36m1\u001b[0m\u001b[0;34m]\u001b[0m\u001b[0;34m)\u001b[0m\u001b[0;34m,\u001b[0m \u001b[0mtarget\u001b[0m\u001b[0;34m.\u001b[0m\u001b[0mview\u001b[0m\u001b[0;34m(\u001b[0m\u001b[0;34m-\u001b[0m\u001b[0;36m1\u001b[0m\u001b[0;34m)\u001b[0m\u001b[0;34m)\u001b[0m\u001b[0;34m\u001b[0m\u001b[0m\n\u001b[0;32m---> 18\u001b[0;31m         \u001b[0mloss\u001b[0m\u001b[0;34m.\u001b[0m\u001b[0mbackward\u001b[0m\u001b[0;34m(\u001b[0m\u001b[0;34m)\u001b[0m\u001b[0;34m\u001b[0m\u001b[0m\n\u001b[0m\u001b[1;32m     19\u001b[0m         \u001b[0mtorch\u001b[0m\u001b[0;34m.\u001b[0m\u001b[0mnn\u001b[0m\u001b[0;34m.\u001b[0m\u001b[0mutils\u001b[0m\u001b[0;34m.\u001b[0m\u001b[0mclip_grad_norm_\u001b[0m\u001b[0;34m(\u001b[0m\u001b[0mmodel\u001b[0m\u001b[0;34m.\u001b[0m\u001b[0mparameters\u001b[0m\u001b[0;34m(\u001b[0m\u001b[0;34m)\u001b[0m\u001b[0;34m,\u001b[0m \u001b[0;36m7.0\u001b[0m\u001b[0;34m)\u001b[0m\u001b[0;34m\u001b[0m\u001b[0m\n\u001b[1;32m     20\u001b[0m         \u001b[0mtotal_loss\u001b[0m \u001b[0;34m+=\u001b[0m \u001b[0mloss\u001b[0m\u001b[0;34m.\u001b[0m\u001b[0mitem\u001b[0m\u001b[0;34m(\u001b[0m\u001b[0;34m)\u001b[0m\u001b[0;34m\u001b[0m\u001b[0m\n",
      "\u001b[0;32m/usr/local/lib/python3.6/site-packages/torch/tensor.py\u001b[0m in \u001b[0;36mbackward\u001b[0;34m(self, gradient, retain_graph, create_graph)\u001b[0m\n\u001b[1;32m     91\u001b[0m                 \u001b[0mproducts\u001b[0m\u001b[0;34m.\u001b[0m \u001b[0mDefaults\u001b[0m \u001b[0mto\u001b[0m\u001b[0;31m \u001b[0m\u001b[0;31m`\u001b[0m\u001b[0;31m`\u001b[0m\u001b[0;32mFalse\u001b[0m\u001b[0;31m`\u001b[0m\u001b[0;31m`\u001b[0m\u001b[0;34m.\u001b[0m\u001b[0;34m\u001b[0m\u001b[0m\n\u001b[1;32m     92\u001b[0m         \"\"\"\n\u001b[0;32m---> 93\u001b[0;31m         \u001b[0mtorch\u001b[0m\u001b[0;34m.\u001b[0m\u001b[0mautograd\u001b[0m\u001b[0;34m.\u001b[0m\u001b[0mbackward\u001b[0m\u001b[0;34m(\u001b[0m\u001b[0mself\u001b[0m\u001b[0;34m,\u001b[0m \u001b[0mgradient\u001b[0m\u001b[0;34m,\u001b[0m \u001b[0mretain_graph\u001b[0m\u001b[0;34m,\u001b[0m \u001b[0mcreate_graph\u001b[0m\u001b[0;34m)\u001b[0m\u001b[0;34m\u001b[0m\u001b[0m\n\u001b[0m\u001b[1;32m     94\u001b[0m \u001b[0;34m\u001b[0m\u001b[0m\n\u001b[1;32m     95\u001b[0m     \u001b[0;32mdef\u001b[0m \u001b[0mregister_hook\u001b[0m\u001b[0;34m(\u001b[0m\u001b[0mself\u001b[0m\u001b[0;34m,\u001b[0m \u001b[0mhook\u001b[0m\u001b[0;34m)\u001b[0m\u001b[0;34m:\u001b[0m\u001b[0;34m\u001b[0m\u001b[0m\n",
      "\u001b[0;32m/usr/local/lib/python3.6/site-packages/torch/autograd/__init__.py\u001b[0m in \u001b[0;36mbackward\u001b[0;34m(tensors, grad_tensors, retain_graph, create_graph, grad_variables)\u001b[0m\n\u001b[1;32m     88\u001b[0m     Variable._execution_engine.run_backward(\n\u001b[1;32m     89\u001b[0m         \u001b[0mtensors\u001b[0m\u001b[0;34m,\u001b[0m \u001b[0mgrad_tensors\u001b[0m\u001b[0;34m,\u001b[0m \u001b[0mretain_graph\u001b[0m\u001b[0;34m,\u001b[0m \u001b[0mcreate_graph\u001b[0m\u001b[0;34m,\u001b[0m\u001b[0;34m\u001b[0m\u001b[0m\n\u001b[0;32m---> 90\u001b[0;31m         allow_unreachable=True)  # allow_unreachable flag\n\u001b[0m\u001b[1;32m     91\u001b[0m \u001b[0;34m\u001b[0m\u001b[0m\n\u001b[1;32m     92\u001b[0m \u001b[0;34m\u001b[0m\u001b[0m\n",
      "\u001b[0;31mKeyboardInterrupt\u001b[0m: "
     ],
     "output_type": "error"
    }
   ],
   "source": [
    "for epoch in range(NUM_EPOCHS):\n",
    "    random.shuffle(train_batches)\n",
    "    \n",
    "    total_loss = 0\n",
    "    \n",
    "    print('----------------------------------- EPOCH: {} -----------------------------------'.format(epoch + 1))\n",
    "    print('----------------------------------- Training -----------------------------------')\n",
    "    \n",
    "    start_time = time.time()\n",
    "\n",
    "    for batch in train_batches:\n",
    "        optimizer.zero_grad()\n",
    "\n",
    "        logits = model(batch)\n",
    "        target = batch['tag']\n",
    "\n",
    "        loss = criterion(logits.view(-1, logits.shape[-1]), target.view(-1))\n",
    "        loss.backward()\n",
    "        torch.nn.utils.clip_grad_norm_(model.parameters(), 7.0)\n",
    "        total_loss += loss.item()\n",
    "        optimizer.step()\n",
    "    \n",
    "    finish_time = time.time()\n",
    "    \n",
    "    print('Time: {:.2f}s'.format(finish_time - start_time))\n",
    "    print('Loss: {:.5f}'.format(total_loss / len(train_batches)))\n",
    "    \n",
    "    print('---------------------------------- Evaluating ----------------------------------')\n",
    "    \n",
    "    start_time = time.time()\n",
    "    \n",
    "    f, precision, recall = evaluate_model(model, train_batches, idx_tag)\n",
    "    \n",
    "    print('================================== Train Data ==================================')\n",
    "    print('F1 = {:.2f}%, Precision = {:.2f}%, Recall = {:.2f}%'.format(f, precision, recall))\n",
    "    \n",
    "    f, precision, recall = evaluate_model(model, valid_batches, idx_tag)\n",
    "    \n",
    "    print('================================== Valid Data ==================================')\n",
    "    print('F1 = {:.2f}%, Precision = {:.2f}%, Recall = {:.2f}%'.format(f, precision, recall))\n",
    "    \n",
    "    f, precision, recall = evaluate_model(model, test_batches, idx_tag)\n",
    "    \n",
    "    print('================================== Test  Data ==================================')\n",
    "    print('F1 = {:.2f}%, Precision = {:.2f}%, Recall = {:.2f}%'.format(f, precision, recall))\n",
    "    \n",
    "    finish_time = time.time()\n",
    "    \n",
    "    print('Time: {:.2f}s\\n'.format(finish_time - start_time))"
   ]
  },
  {
   "cell_type": "code",
   "execution_count": null,
   "metadata": {},
   "outputs": [],
   "source": []
  }
 ],
 "metadata": {
  "kernelspec": {
   "display_name": "Python 3",
   "language": "python",
   "name": "python3"
  },
  "language_info": {
   "codemirror_mode": {
    "name": "ipython",
    "version": 3
   },
   "file_extension": ".py",
   "mimetype": "text/x-python",
   "name": "python",
   "nbconvert_exporter": "python",
   "pygments_lexer": "ipython3",
   "version": "3.6.5"
  }
 },
 "nbformat": 4,
 "nbformat_minor": 2
}
